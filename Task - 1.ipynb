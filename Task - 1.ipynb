{
 "cells": [
  {
   "cell_type": "code",
   "execution_count": 1,
   "id": "18aea50b",
   "metadata": {},
   "outputs": [],
   "source": [
    "#creating a list"
   ]
  },
  {
   "cell_type": "code",
   "execution_count": 2,
   "id": "88a8bc7e",
   "metadata": {},
   "outputs": [],
   "source": [
    "list=[34,4,53,63,54]"
   ]
  },
  {
   "cell_type": "code",
   "execution_count": 3,
   "id": "16d3f37a",
   "metadata": {},
   "outputs": [],
   "source": [
    "#adding on an element to the list"
   ]
  },
  {
   "cell_type": "code",
   "execution_count": 4,
   "id": "61b7b302",
   "metadata": {},
   "outputs": [],
   "source": [
    "list.append(94)"
   ]
  },
  {
   "cell_type": "code",
   "execution_count": 5,
   "id": "6789db34",
   "metadata": {},
   "outputs": [],
   "source": [
    "#removing on an element from the list"
   ]
  },
  {
   "cell_type": "code",
   "execution_count": 6,
   "id": "fbd15a34",
   "metadata": {},
   "outputs": [],
   "source": [
    "list.remove(4)"
   ]
  },
  {
   "cell_type": "code",
   "execution_count": 7,
   "id": "b9b7ae1d",
   "metadata": {},
   "outputs": [],
   "source": [
    "#modifying on an element to the list"
   ]
  },
  {
   "cell_type": "code",
   "execution_count": 8,
   "id": "da40d7df",
   "metadata": {},
   "outputs": [],
   "source": [
    "list[2]=76"
   ]
  },
  {
   "cell_type": "code",
   "execution_count": 9,
   "id": "b635146f",
   "metadata": {},
   "outputs": [],
   "source": [
    "#updated list"
   ]
  },
  {
   "cell_type": "code",
   "execution_count": 10,
   "id": "416157e4",
   "metadata": {},
   "outputs": [
    {
     "name": "stdout",
     "output_type": "stream",
     "text": [
      "updated_list [34, 53, 76, 54, 94]\n"
     ]
    }
   ],
   "source": [
    "print(\"updated_list\", list)"
   ]
  },
  {
   "cell_type": "code",
   "execution_count": 11,
   "id": "85c0ba67",
   "metadata": {},
   "outputs": [],
   "source": [
    "#creating a dictionary"
   ]
  },
  {
   "cell_type": "code",
   "execution_count": 12,
   "id": "dd6b7f72",
   "metadata": {},
   "outputs": [],
   "source": [
    "dict={\"Name\": 'Gaurav Kumar ', \"Age\": 18 ,\"City\": 'Nagpur', \"State\": 'Maharastra' }"
   ]
  },
  {
   "cell_type": "code",
   "execution_count": 13,
   "id": "957ae6ab",
   "metadata": {},
   "outputs": [],
   "source": [
    "#adding on an element to the dictionary"
   ]
  },
  {
   "cell_type": "code",
   "execution_count": 14,
   "id": "40826709",
   "metadata": {},
   "outputs": [],
   "source": [
    "dict['Gender']='Male'"
   ]
  },
  {
   "cell_type": "code",
   "execution_count": 15,
   "id": "0815c3d2",
   "metadata": {},
   "outputs": [],
   "source": [
    "#removing on an element from the dictionary"
   ]
  },
  {
   "cell_type": "code",
   "execution_count": 16,
   "id": "1e53cbe5",
   "metadata": {},
   "outputs": [],
   "source": [
    "del dict[\"City\"]"
   ]
  },
  {
   "cell_type": "code",
   "execution_count": 17,
   "id": "72621019",
   "metadata": {},
   "outputs": [],
   "source": [
    "#modifying on an element to the dictionary"
   ]
  },
  {
   "cell_type": "code",
   "execution_count": 18,
   "id": "67ee5975",
   "metadata": {},
   "outputs": [],
   "source": [
    "dict['Age']=19"
   ]
  },
  {
   "cell_type": "code",
   "execution_count": 19,
   "id": "89716ab3",
   "metadata": {},
   "outputs": [],
   "source": [
    "#updated dictionary"
   ]
  },
  {
   "cell_type": "code",
   "execution_count": 20,
   "id": "8a0e634e",
   "metadata": {},
   "outputs": [
    {
     "name": "stdout",
     "output_type": "stream",
     "text": [
      "updated dictionary {'Name': 'Gaurav Kumar ', 'Age': 19, 'State': 'Maharastra', 'Gender': 'Male'}\n"
     ]
    }
   ],
   "source": [
    "print(\"updated dictionary\", dict)"
   ]
  },
  {
   "cell_type": "code",
   "execution_count": 21,
   "id": "4c3f533f",
   "metadata": {},
   "outputs": [],
   "source": [
    "#creating a set"
   ]
  },
  {
   "cell_type": "code",
   "execution_count": 22,
   "id": "b7f75964",
   "metadata": {},
   "outputs": [],
   "source": [
    "set={10,11,12,13,14}"
   ]
  },
  {
   "cell_type": "code",
   "execution_count": 23,
   "id": "4c66de54",
   "metadata": {},
   "outputs": [],
   "source": [
    "#adding on an element to the set"
   ]
  },
  {
   "cell_type": "code",
   "execution_count": 24,
   "id": "4663d7c6",
   "metadata": {},
   "outputs": [],
   "source": [
    "set.add(15)"
   ]
  },
  {
   "cell_type": "code",
   "execution_count": 25,
   "id": "d2ccac74",
   "metadata": {},
   "outputs": [],
   "source": [
    "#removing on an element from the set"
   ]
  },
  {
   "cell_type": "code",
   "execution_count": 26,
   "id": "f3e05ff4",
   "metadata": {},
   "outputs": [],
   "source": [
    "set.remove(12)"
   ]
  },
  {
   "cell_type": "code",
   "execution_count": 27,
   "id": "cebb3de1",
   "metadata": {},
   "outputs": [],
   "source": [
    "#modifying on an element to the set"
   ]
  },
  {
   "cell_type": "code",
   "execution_count": 28,
   "id": "096b9c37",
   "metadata": {},
   "outputs": [],
   "source": [
    "set.discard(11)\n",
    "set.add(16)"
   ]
  },
  {
   "cell_type": "code",
   "execution_count": 29,
   "id": "ea650e26",
   "metadata": {},
   "outputs": [],
   "source": [
    "#updated set"
   ]
  },
  {
   "cell_type": "code",
   "execution_count": 30,
   "id": "0d76b24d",
   "metadata": {},
   "outputs": [
    {
     "name": "stdout",
     "output_type": "stream",
     "text": [
      "updated set {16, 10, 13, 14, 15}\n"
     ]
    }
   ],
   "source": [
    "print(\"updated set\", set)"
   ]
  },
  {
   "cell_type": "code",
   "execution_count": null,
   "id": "e709ff6e",
   "metadata": {},
   "outputs": [],
   "source": []
  },
  {
   "cell_type": "markdown",
   "id": "8ea190ea",
   "metadata": {},
   "source": [
    "# Thank you"
   ]
  },
  {
   "cell_type": "code",
   "execution_count": null,
   "id": "56434a96",
   "metadata": {},
   "outputs": [],
   "source": []
  }
 ],
 "metadata": {
  "kernelspec": {
   "display_name": "Python 3 (ipykernel)",
   "language": "python",
   "name": "python3"
  },
  "language_info": {
   "codemirror_mode": {
    "name": "ipython",
    "version": 3
   },
   "file_extension": ".py",
   "mimetype": "text/x-python",
   "name": "python",
   "nbconvert_exporter": "python",
   "pygments_lexer": "ipython3",
   "version": "3.11.4"
  }
 },
 "nbformat": 4,
 "nbformat_minor": 5
}
